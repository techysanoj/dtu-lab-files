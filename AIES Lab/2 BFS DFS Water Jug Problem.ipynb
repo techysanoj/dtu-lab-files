{
 "cells": [
  {
   "cell_type": "code",
   "execution_count": 1,
   "id": "b021f4a7",
   "metadata": {},
   "outputs": [],
   "source": [
    "class State:\n",
    "    def __init__(self, jug1, jug2):\n",
    "        self.jug1 = jug1\n",
    "        self.jug2 = jug2\n",
    "\n",
    "    def __eq__(self, other):\n",
    "        return self.jug1 == other.jug1 and self.jug2 == other.jug2\n",
    "\n",
    "    def __hash__(self):\n",
    "        return hash((self.jug1, self.jug2))\n",
    "\n",
    "    def __str__(self):\n",
    "        return f\"({self.jug1}, {self.jug2})\""
   ]
  },
  {
   "cell_type": "code",
   "execution_count": 2,
   "id": "63b88057",
   "metadata": {},
   "outputs": [],
   "source": [
    "def pour_water(state, capacity1, capacity2):\n",
    "    # Pour water from jug1 to jug2\n",
    "    pour = min(state.jug1, capacity2 - state.jug2)\n",
    "    new_jug1 = state.jug1 - pour\n",
    "    new_jug2 = state.jug2 + pour\n",
    "    return State(new_jug1, new_jug2)"
   ]
  },
  {
   "cell_type": "code",
   "execution_count": 3,
   "id": "9b9aa8c2",
   "metadata": {},
   "outputs": [],
   "source": [
    "def water_jug_bfs(start, target, capacity1, capacity2):\n",
    "    visited = set()\n",
    "    queue = [start]\n",
    "\n",
    "    while queue:\n",
    "        current_state = queue.pop(0)\n",
    "\n",
    "        if current_state == target:\n",
    "            return True  # Target state reached\n",
    "\n",
    "        visited.add(current_state)\n",
    "\n",
    "        # Generate next possible states\n",
    "        next_states = [\n",
    "            pour_water(current_state, capacity1, capacity2),\n",
    "            pour_water(current_state, capacity2, capacity1),\n",
    "            State(capacity1, current_state.jug2),\n",
    "            State(current_state.jug1, capacity2),\n",
    "            State(0, current_state.jug2),\n",
    "            State(current_state.jug1, 0),\n",
    "        ]\n",
    "\n",
    "        # Add unvisited next states to the queue\n",
    "        for next_state in next_states:\n",
    "            if next_state not in visited and next_state not in queue:\n",
    "                queue.append(next_state)\n",
    "\n",
    "    return False  # Target state not reachable"
   ]
  },
  {
   "cell_type": "code",
   "execution_count": 4,
   "id": "8ee91660",
   "metadata": {},
   "outputs": [],
   "source": [
    "def water_jug_dfs(current_state, target, capacity1, capacity2, visited):\n",
    "    if current_state == target:\n",
    "        return True  # Target state reached\n",
    "\n",
    "    visited.add(current_state)\n",
    "\n",
    "    # Generate next possible states\n",
    "    next_states = [\n",
    "        pour_water(current_state, capacity1, capacity2),\n",
    "        pour_water(current_state, capacity2, capacity1),\n",
    "        State(capacity1, current_state.jug2),\n",
    "        State(current_state.jug1, capacity2),\n",
    "        State(0, current_state.jug2),\n",
    "        State(current_state.jug1, 0),\n",
    "    ]\n",
    "\n",
    "    # Recursively explore next states\n",
    "    for next_state in next_states:\n",
    "        if next_state not in visited:\n",
    "            if water_jug_dfs(next_state, target, capacity1, capacity2, visited):\n",
    "                return True\n",
    "\n",
    "    return False  # Target state not reachable"
   ]
  },
  {
   "cell_type": "code",
   "execution_count": 5,
   "id": "53984e45",
   "metadata": {},
   "outputs": [],
   "source": [
    "# Example usage:\n",
    "\n",
    "start_state = State(0, 0)\n",
    "target_state = State(2, 0)\n",
    "jug_capacity1 = 4\n",
    "jug_capacity2 = 3"
   ]
  },
  {
   "cell_type": "code",
   "execution_count": 6,
   "id": "1d6ea4ea",
   "metadata": {},
   "outputs": [
    {
     "name": "stdout",
     "output_type": "stream",
     "text": [
      "BFS Result: True\n"
     ]
    }
   ],
   "source": [
    "# BFS\n",
    "result_bfs = water_jug_bfs(start_state, target_state, jug_capacity1, jug_capacity2)\n",
    "print(f\"BFS Result: {result_bfs}\")"
   ]
  },
  {
   "cell_type": "code",
   "execution_count": 7,
   "id": "bd8e74b7",
   "metadata": {},
   "outputs": [
    {
     "name": "stdout",
     "output_type": "stream",
     "text": [
      "DFS Result: True\n"
     ]
    }
   ],
   "source": [
    "# DFS\n",
    "visited_states = set()\n",
    "result_dfs = water_jug_dfs(start_state, target_state, jug_capacity1, jug_capacity2, visited_states)\n",
    "print(f\"DFS Result: {result_dfs}\")"
   ]
  },
  {
   "cell_type": "code",
   "execution_count": 8,
   "id": "c8840eed",
   "metadata": {},
   "outputs": [],
   "source": [
    "start_state = State(0, 0)\n",
    "target_state = State(4, 0)\n",
    "jug_capacity1 = 2\n",
    "jug_capacity2 = 2"
   ]
  },
  {
   "cell_type": "code",
   "execution_count": 9,
   "id": "141bc70c",
   "metadata": {},
   "outputs": [
    {
     "name": "stdout",
     "output_type": "stream",
     "text": [
      "DFS Result: False\n"
     ]
    }
   ],
   "source": [
    "# DFS\n",
    "visited_states = set()\n",
    "result_dfs = water_jug_dfs(start_state, target_state, jug_capacity1, jug_capacity2, visited_states)\n",
    "print(f\"DFS Result: {result_dfs}\")"
   ]
  }
 ],
 "metadata": {
  "kernelspec": {
   "display_name": "Python 3 (ipykernel)",
   "language": "python",
   "name": "python3"
  },
  "language_info": {
   "codemirror_mode": {
    "name": "ipython",
    "version": 3
   },
   "file_extension": ".py",
   "mimetype": "text/x-python",
   "name": "python",
   "nbconvert_exporter": "python",
   "pygments_lexer": "ipython3",
   "version": "3.11.5"
  }
 },
 "nbformat": 4,
 "nbformat_minor": 5
}
