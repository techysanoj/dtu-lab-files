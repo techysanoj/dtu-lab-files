{
 "cells": [
  {
   "cell_type": "code",
   "execution_count": 1,
   "id": "c10e16c0",
   "metadata": {},
   "outputs": [],
   "source": [
    "import heapq\n",
    "import copy\n",
    "\n",
    "class PuzzleState:\n",
    "    def __init__(self, puzzle, parent=None, move=None, cost=0):\n",
    "        self.puzzle = puzzle\n",
    "        self.parent = parent\n",
    "        self.move = move\n",
    "        self.cost = cost\n",
    "\n",
    "    def __eq__(self, other):\n",
    "        return self.puzzle == other.puzzle\n",
    "\n",
    "    def __lt__(self, other):\n",
    "        return (self.cost + self.heuristic()) < (other.cost + other.heuristic())\n",
    "\n",
    "    def __hash__(self):\n",
    "        return hash(str(self.puzzle))\n",
    "\n",
    "    def __str__(self):\n",
    "        return \"\\n\".join([\" \".join(map(str, row)) for row in self.puzzle])\n",
    "\n",
    "    def find_blank(self):\n",
    "        for i in range(3):\n",
    "            for j in range(3):\n",
    "                if self.puzzle[i][j] == 0:\n",
    "                    return i, j\n",
    "\n",
    "    def move_blank(self, direction):\n",
    "        i, j = self.find_blank()\n",
    "        new_i, new_j = i, j\n",
    "\n",
    "        if direction == 'UP' and i > 0:\n",
    "            new_i -= 1\n",
    "        elif direction == 'DOWN' and i < 2:\n",
    "            new_i += 1\n",
    "        elif direction == 'LEFT' and j > 0:\n",
    "            new_j -= 1\n",
    "        elif direction == 'RIGHT' and j < 2:\n",
    "            new_j += 1\n",
    "\n",
    "        new_puzzle = copy.deepcopy(self.puzzle)\n",
    "        new_puzzle[i][j], new_puzzle[new_i][new_j] = new_puzzle[new_i][new_j], new_puzzle[i][j]\n",
    "\n",
    "        return PuzzleState(new_puzzle, parent=self, move=direction, cost=self.cost + 1)\n",
    "\n",
    "    def is_goal(self, goal_state):\n",
    "        return self.puzzle == goal_state.puzzle\n",
    "\n",
    "    def heuristic(self):\n",
    "        # Manhattan distance heuristic\n",
    "        total_distance = 0\n",
    "        for i in range(3):\n",
    "            for j in range(3):\n",
    "                value = self.puzzle[i][j]\n",
    "                if value != 0:\n",
    "                    goal_i, goal_j = divmod(value - 1, 3)\n",
    "                    total_distance += abs(i - goal_i) + abs(j - goal_j)\n",
    "        return total_distance"
   ]
  },
  {
   "cell_type": "code",
   "execution_count": 2,
   "id": "a7b4ab8d",
   "metadata": {},
   "outputs": [],
   "source": [
    "def get_possible_moves(state):\n",
    "    possible_moves = []\n",
    "    directions = ['UP', 'DOWN', 'LEFT', 'RIGHT']\n",
    "    for direction in directions:\n",
    "        new_state = state.move_blank(direction)\n",
    "        possible_moves.append(new_state)\n",
    "    return possible_moves"
   ]
  },
  {
   "cell_type": "code",
   "execution_count": 3,
   "id": "fbc15100",
   "metadata": {},
   "outputs": [],
   "source": [
    "def bfs_8_puzzle(initial_state, goal_state):\n",
    "    visited = set()\n",
    "    queue = [initial_state]\n",
    "\n",
    "    while queue:\n",
    "        current_state = queue.pop(0)\n",
    "\n",
    "        if current_state.is_goal(goal_state):\n",
    "            return current_state  # Goal state reached\n",
    "\n",
    "        visited.add(current_state)\n",
    "\n",
    "        possible_moves = get_possible_moves(current_state)\n",
    "        for move in possible_moves:\n",
    "            if move not in visited and move not in queue:\n",
    "                queue.append(move)\n",
    "\n",
    "    return None  # Goal state not reachable\n"
   ]
  },
  {
   "cell_type": "code",
   "execution_count": 4,
   "id": "97294266",
   "metadata": {},
   "outputs": [],
   "source": [
    "def a_star_8_puzzle(initial_state, goal_state):\n",
    "    visited = set()\n",
    "    priority_queue = [initial_state]\n",
    "\n",
    "    while priority_queue:\n",
    "        current_state = heapq.heappop(priority_queue)\n",
    "\n",
    "        if current_state.is_goal(goal_state):\n",
    "            return current_state  # Goal state reached\n",
    "\n",
    "        visited.add(current_state)\n",
    "\n",
    "        possible_moves = get_possible_moves(current_state)\n",
    "        for move in possible_moves:\n",
    "            if move not in visited:\n",
    "                heapq.heappush(priority_queue, move)\n",
    "\n",
    "    return None  # Goal state not reachable"
   ]
  },
  {
   "cell_type": "code",
   "execution_count": 14,
   "id": "620cf220",
   "metadata": {},
   "outputs": [],
   "source": [
    "def uniform_cost_8_puzzle(initial_state, goal_state):\n",
    "    visited = set()\n",
    "    priority_queue = [(initial_state.cost, initial_state)]\n",
    "\n",
    "    while priority_queue:\n",
    "        current_cost, current_state = heapq.heappop(priority_queue)\n",
    "\n",
    "        if current_state.is_goal(goal_state):\n",
    "            return current_state  # Goal state reached\n",
    "\n",
    "        visited.add(current_state)\n",
    "\n",
    "        possible_moves = get_possible_moves(current_state)\n",
    "        for move in possible_moves:\n",
    "            if move not in visited:\n",
    "                heapq.heappush(priority_queue, (move.cost, move))\n",
    "\n",
    "    return None  # Goal state not reachable\n",
    "\n",
    "\n"
   ]
  },
  {
   "cell_type": "code",
   "execution_count": 15,
   "id": "2f2f127c",
   "metadata": {},
   "outputs": [],
   "source": [
    "# Example usage:\n",
    "\n",
    "# Define the initial and goal states\n",
    "initial_state = PuzzleState([[1, 2, 3], [0, 4, 5], [6, 7, 8]])\n",
    "goal_state = PuzzleState([[1, 2, 3], [4, 5, 6], [7, 8, 0]])\n",
    "\n"
   ]
  },
  {
   "cell_type": "code",
   "execution_count": 16,
   "id": "bf8d6978",
   "metadata": {},
   "outputs": [
    {
     "name": "stdout",
     "output_type": "stream",
     "text": [
      "BFS Result:\n",
      "1 2 3\n",
      "4 5 6\n",
      "7 8 0\n"
     ]
    }
   ],
   "source": [
    "# Breadth-First Search\n",
    "bfs_result = bfs_8_puzzle(initial_state, goal_state)\n",
    "print(\"BFS Result:\")\n",
    "print(bfs_result)"
   ]
  },
  {
   "cell_type": "code",
   "execution_count": 17,
   "id": "d8279f0b",
   "metadata": {},
   "outputs": [
    {
     "name": "stdout",
     "output_type": "stream",
     "text": [
      "\n",
      "A* Result:\n",
      "1 2 3\n",
      "4 5 6\n",
      "7 8 0\n"
     ]
    }
   ],
   "source": [
    "# A* Search with Manhattan distance heuristic\n",
    "astar_result = a_star_8_puzzle(initial_state, goal_state)\n",
    "print(\"\\nA* Result:\")\n",
    "print(astar_result)"
   ]
  },
  {
   "cell_type": "code",
   "execution_count": 18,
   "id": "2446351f",
   "metadata": {},
   "outputs": [
    {
     "name": "stdout",
     "output_type": "stream",
     "text": [
      "Uniform-Cost Search Result:\n",
      "1 2 3\n",
      "4 5 6\n",
      "7 8 0\n"
     ]
    }
   ],
   "source": [
    "# Example usage:\n",
    "\n",
    "# Uniform-Cost Search\n",
    "uniform_cost_result = uniform_cost_8_puzzle(initial_state, goal_state)\n",
    "print(\"Uniform-Cost Search Result:\")\n",
    "print(uniform_cost_result)"
   ]
  }
 ],
 "metadata": {
  "kernelspec": {
   "display_name": "Python 3 (ipykernel)",
   "language": "python",
   "name": "python3"
  },
  "language_info": {
   "codemirror_mode": {
    "name": "ipython",
    "version": 3
   },
   "file_extension": ".py",
   "mimetype": "text/x-python",
   "name": "python",
   "nbconvert_exporter": "python",
   "pygments_lexer": "ipython3",
   "version": "3.11.5"
  }
 },
 "nbformat": 4,
 "nbformat_minor": 5
}
